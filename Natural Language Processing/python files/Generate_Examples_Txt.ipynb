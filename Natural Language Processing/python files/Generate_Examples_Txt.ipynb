{
 "cells": [
  {
   "cell_type": "code",
   "execution_count": 1,
   "metadata": {},
   "outputs": [],
   "source": [
    "import json\n",
    "import spacy\n",
    "import os"
   ]
  },
  {
   "cell_type": "code",
   "execution_count": 2,
   "metadata": {},
   "outputs": [],
   "source": [
    "nlp = spacy.load(\"en_core_web_sm\")"
   ]
  },
  {
   "cell_type": "code",
   "execution_count": null,
   "metadata": {},
   "outputs": [],
   "source": [
    "file_path = \"Results/squad_base_eval_predictions_mistakes_bad.jsonl\"\n",
    "with open(file_path, 'r') as file:\n",
    "    data = [json.loads(line) for line in file]"
   ]
  },
  {
   "cell_type": "code",
   "execution_count": 4,
   "metadata": {},
   "outputs": [],
   "source": [
    "# List of IDs\n",
    "ids = [example['id'] for example in data]\n",
    "\n",
    "path = \"hard_eval_examples_ids_fixed.txt\"\n",
    "# Check if the file exists and delete it\n",
    "if os.path.exists(path):\n",
    "    os.remove(path)\n",
    "# Save to a text file\n",
    "with open(path, \"w\") as f:\n",
    "    for id_ in ids:\n",
    "        f.write(f\"{id_}\\n\")"
   ]
  },
  {
   "cell_type": "code",
   "execution_count": 5,
   "metadata": {},
   "outputs": [],
   "source": [
    "ents_ids = []\n",
    "for example in data:\n",
    "    for answer in example['answers']['text']:\n",
    "        answer_doc = nlp(answer)\n",
    "        if len(answer_doc.ents) > 0:\n",
    "            ents_ids.append(example['id'])\n",
    "            break\n",
    "\n",
    "path = \"hard_eval_examples_ids_entities_fixed.txt\"\n",
    "# Check if the file exists and delete it\n",
    "if os.path.exists(path):\n",
    "    os.remove(path)\n",
    "# Save to a text file\n",
    "with open(\"hard_eval_examples_ids_entities_fixed.txt\", \"w\") as f:\n",
    "    for id_ in ents_ids:\n",
    "        f.write(f\"{id_}\\n\")"
   ]
  },
  {
   "cell_type": "code",
   "execution_count": null,
   "metadata": {},
   "outputs": [],
   "source": []
  }
 ],
 "metadata": {
  "kernelspec": {
   "display_name": "NLP",
   "language": "python",
   "name": "python3"
  },
  "language_info": {
   "codemirror_mode": {
    "name": "ipython",
    "version": 3
   },
   "file_extension": ".py",
   "mimetype": "text/x-python",
   "name": "python",
   "nbconvert_exporter": "python",
   "pygments_lexer": "ipython3",
   "version": "3.10.15"
  }
 },
 "nbformat": 4,
 "nbformat_minor": 2
}
