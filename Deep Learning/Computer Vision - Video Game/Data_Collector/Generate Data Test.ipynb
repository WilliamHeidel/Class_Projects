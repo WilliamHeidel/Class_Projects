{
 "cells": [
  {
   "cell_type": "code",
   "execution_count": 1,
   "metadata": {},
   "outputs": [],
   "source": [
    "import os\n",
    "import shutil\n",
    "\n",
    "import pickle\n",
    "\n",
    "from PIL import Image\n",
    "from IPython.display import display\n",
    "import numpy as np\n",
    "import pandas as pd\n",
    "import sys\n",
    "import matplotlib.pyplot as plt\n",
    "\n",
    "import csv"
   ]
  },
  {
   "cell_type": "code",
   "execution_count": 2,
   "metadata": {},
   "outputs": [],
   "source": [
    "def move_file_to_folder(source_file, destination_folder):\n",
    "    # Check if the destination folder exists, if not, create it\n",
    "    if not os.path.exists(destination_folder):\n",
    "        os.makedirs(destination_folder)\n",
    "\n",
    "    destination_file_path = os.path.join(destination_folder, source_file)\n",
    "\n",
    "    # Use shutil.copy to copy the file to the destination folder\n",
    "    shutil.move(source_file, destination_file_path)"
   ]
  },
  {
   "cell_type": "code",
   "execution_count": 3,
   "metadata": {},
   "outputs": [],
   "source": [
    "this_directory = os.getcwd()"
   ]
  },
  {
   "cell_type": "code",
   "execution_count": 4,
   "metadata": {},
   "outputs": [
    {
     "name": "stdout",
     "output_type": "stream",
     "text": [
      "Match results [0, 1]\n"
     ]
    }
   ],
   "source": [
    "os.chdir('../final')\n",
    "\n",
    "# TRAINING DATA\n",
    "#!python -m tournament.runner_record image_jurgen_agent jurgen_agent -r record.mp4 -s data.pkl \n",
    "#!python -m tournament.runner_record geoffrey_agent jurgen_agent -r record.mp4 -s data.pkl \n",
    "#!python -m tournament.runner_record yann_agent geoffrey_agent -r record.mp4 -s data.pkl \n",
    "\n",
    "# VALIDATION DATA\n",
    "#!python -m tournament.runner_record image_jurgen_agent yann_agent -r record.mp4 -s data.pkl \n",
    "#!python -m tournament.runner_record image_jurgen_agent geoffrey_agent -r record.mp4 -s data.pkl \n",
    "#!python -m tournament.runner_record yann_agent jurgen_agent -r record.mp4 -s data.pkl \n",
    "\n",
    "# Test Data\n",
    "#!python -m tournament.runner_record jurgen_agent image_jurgen_agent -r record.mp4 -s data.pkl\n",
    "#!python -m tournament.runner_record geoffrey_agent yann_agent -r record.mp4 -s data.pkl\n",
    "#!python -m tournament.runner_record geoffrey_agent image_jurgen_agent -r record.mp4 -s data.pkl\n",
    "#!python -m tournament.runner_record geoffrey_agent image_jurgen_agent -r record.mp4 -s data.pkl -wh 400 300 \n",
    "!python -m tournament.runner_record AI AI -r record.mp4 -s data.pkl\n",
    "\n",
    "destination_directory = this_directory\n",
    "for file in ['record.mp4','data.pkl']:\n",
    "    move_file_to_folder(file, destination_directory)\n",
    "\n",
    "os.chdir(this_directory)"
   ]
  },
  {
   "cell_type": "code",
   "execution_count": 5,
   "metadata": {},
   "outputs": [
    {
     "data": {
      "text/plain": [
       "4800"
      ]
     },
     "execution_count": 5,
     "metadata": {},
     "output_type": "execute_result"
    }
   ],
   "source": [
    "with open('Images.pkl', 'rb') as f:\n",
    "    images_data = pickle.load(f)\n",
    "\n",
    "len(images_data)"
   ]
  },
  {
   "cell_type": "code",
   "execution_count": 6,
   "metadata": {},
   "outputs": [],
   "source": [
    "def get_puck_box(objects_in_image):\n",
    "    indices = np.where(objects_in_image == 8)\n",
    "\n",
    "    if len(indices[0]) > 0:\n",
    "        min_row = min(indices[0])\n",
    "        max_row = max(indices[0])\n",
    "        min_col = min(indices[1])\n",
    "        max_col = max(indices[1])\n",
    "\n",
    "        puck_array = np.array([[min_col, min_row, max_col+1, max_row+1]], dtype='uint16')\n",
    "    \n",
    "    else:\n",
    "        puck_array = np.array([], dtype='uint16')\n",
    "\n",
    "    return puck_array"
   ]
  },
  {
   "cell_type": "code",
   "execution_count": 7,
   "metadata": {},
   "outputs": [],
   "source": [
    "def _filter(boxes, min_size=20, max_size=np.inf):\n",
    "    if len(boxes) == 0:\n",
    "        return boxes, 0\n",
    "    box_size = abs(boxes[:, 3] - boxes[:, 1]) * abs(boxes[:, 2] - boxes[:, 0])\n",
    "    return boxes[max_size >= box_size >= min_size], box_size[0]"
   ]
  },
  {
   "cell_type": "code",
   "execution_count": 8,
   "metadata": {},
   "outputs": [],
   "source": [
    "def append_row_to_csv(file_path, file_name, label):\n",
    "    # Open the CSV file in append mode\n",
    "    with open(file_path, 'a', newline='') as csvfile:\n",
    "        # Create a csv.writer object\n",
    "        writer = csv.writer(csvfile)\n",
    "        \n",
    "        # Write header if the file is empty\n",
    "        if csvfile.tell() == 0:\n",
    "            writer.writerow([\"file\", \"label\"])\n",
    "        \n",
    "        # Write the row data\n",
    "        writer.writerow([file_name, label])"
   ]
  },
  {
   "cell_type": "code",
   "execution_count": 9,
   "metadata": {},
   "outputs": [],
   "source": [
    "keep_images_without_puck = True\n",
    "min_puck_size = 6\n",
    "max_puck_size = np.inf #120\n",
    "max_file_count = np.inf #4201 #\n",
    "data_dir = 'dense_data/test'\n",
    "\n",
    "os.chdir(this_directory)\n",
    "if not os.path.exists(data_dir):\n",
    "    os.makedirs(data_dir)\n",
    "os.chdir(data_dir)\n",
    "\n",
    "files = 0\n",
    "puck_sizes = {}\n",
    "\n",
    "for number, dataset_tuple in images_data.items():\n",
    "    if files > max_file_count:\n",
    "        break\n",
    "    if len(dataset_tuple) != 1:\n",
    "        print(\"Error! The length of the dataset is\", len(dataset_tuple))\n",
    "    dataset = dataset_tuple[0]\n",
    "    write = True\n",
    "    puck = \"No_Puck\"\n",
    "    for name, value in dataset.items():\n",
    "        if name.__contains__('labels'):\n",
    "            objects_in_image = value\n",
    "            puck_array = get_puck_box(objects_in_image)\n",
    "            puck_array, puck_size = _filter(puck_array, min_size=min_puck_size, max_size=max_puck_size)\n",
    "            if (len(puck_array) == 0):\n",
    "                write = keep_images_without_puck\n",
    "                if (puck_size > max_puck_size):\n",
    "                    write = False\n",
    "            else:\n",
    "                puck = 'Puck'\n",
    "        elif name.__contains__('img'):\n",
    "            img_array = value\n",
    "            img = Image.fromarray(np.uint8(img_array))\n",
    "    if write:\n",
    "        np.savez_compressed(name.replace('labels','boxes')+'.npz', puck=puck_array)\n",
    "        #plt.imsave(name+'.png', objects_in_image, cmap='gray')\n",
    "        img.save(name+'.jpg')\n",
    "        append_row_to_csv('labels.csv', name+'.jpg', puck)\n",
    "        puck_sizes[puck_size] = {'img':img, 'size':puck_size, 'png':objects_in_image, 'array':puck_array}\n",
    "        files += 1\n",
    "\n",
    "os.chdir(this_directory)"
   ]
  },
  {
   "cell_type": "raw",
   "metadata": {
    "vscode": {
     "languageId": "raw"
    }
   },
   "source": [
    "arr = puck_sizes[80]['array'][0]\n",
    "arr_center = (int(arr[0]+0.5*(arr[2] - arr[0])), int(arr[1]+0.5*(arr[3] - arr[1])))\n",
    "arr_center"
   ]
  },
  {
   "cell_type": "code",
   "execution_count": 10,
   "metadata": {},
   "outputs": [
    {
     "name": "stdout",
     "output_type": "stream",
     "text": [
      "The folder contains 9601 files from 4800 images.\n"
     ]
    }
   ],
   "source": [
    "# Initialize a counter for the number of files\n",
    "file_count = 0\n",
    "\n",
    "# Iterate over the files in the folder\n",
    "for filename in os.listdir(data_dir):\n",
    "    # Check if the filename is a file (not a directory)\n",
    "    if os.path.isfile(os.path.join(data_dir, filename)):\n",
    "        file_count += 1\n",
    "\n",
    "print(f'The folder contains {file_count} files from {int((file_count-1)/2)} images.')\n"
   ]
  },
  {
   "cell_type": "code",
   "execution_count": 11,
   "metadata": {},
   "outputs": [
    {
     "data": {
      "image/jpeg": "[encoded data removed]",
      "image/png": "[encoded data removed]",
      "text/plain": [
       "<PIL.Image.Image image mode=RGB size=128x96>"
      ]
     },
     "execution_count": 11,
     "metadata": {},
     "output_type": "execute_result"
    }
   ],
   "source": [
    "img"
   ]
  },
  {
   "cell_type": "code",
   "execution_count": 12,
   "metadata": {},
   "outputs": [
    {
     "data": {
      "image/png": "[encoded data removed]",
      "text/plain": [
       "<Figure size 640x480 with 1 Axes>"
      ]
     },
     "metadata": {},
     "output_type": "display_data"
    }
   ],
   "source": [
    "plt.imshow(objects_in_image, cmap='gray')\n",
    "plt.axis('off')  # Turn off axis labels\n",
    "plt.show()"
   ]
  },
  {
   "cell_type": "code",
   "execution_count": 13,
   "metadata": {},
   "outputs": [
    {
     "data": {
      "text/plain": [
       "array([[21, 41, 43, 51]], dtype=uint16)"
      ]
     },
     "execution_count": 13,
     "metadata": {},
     "output_type": "execute_result"
    }
   ],
   "source": [
    "puck_array"
   ]
  },
  {
   "cell_type": "code",
   "execution_count": null,
   "metadata": {},
   "outputs": [],
   "source": []
  }
 ],
 "metadata": {
  "kernelspec": {
   "display_name": "Python 3",
   "language": "python",
   "name": "python3"
  },
  "language_info": {
   "codemirror_mode": {
    "name": "ipython",
    "version": 3
   },
   "file_extension": ".py",
   "mimetype": "text/x-python",
   "name": "python",
   "nbconvert_exporter": "python",
   "pygments_lexer": "ipython3",
   "version": "3.10.13"
  }
 },
 "nbformat": 4,
 "nbformat_minor": 2
}
